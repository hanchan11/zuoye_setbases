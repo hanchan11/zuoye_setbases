{
 "cells": [
  {
   "cell_type": "code",
   "execution_count": 2,
   "id": "8ab25df4",
   "metadata": {
    "execution": {
     "iopub.execute_input": "2024-05-17T02:32:04.456634Z",
     "iopub.status.busy": "2024-05-17T02:32:04.426817Z",
     "iopub.status.idle": "2024-05-17T02:32:04.481034Z",
     "shell.execute_reply": "2024-05-17T02:32:04.479285Z"
    },
    "papermill": {
     "duration": 0.061212,
     "end_time": "2024-05-17T02:32:04.483289",
     "exception": true,
     "start_time": "2024-05-17T02:32:04.422077",
     "status": "failed"
    },
    "tags": [],
    "vscode": {
     "languageId": "r"
    }
   },
   "outputs": [
    {
     "name": "stderr",
     "output_type": "stream",
     "text": [
      "Warning message in file(file, \"rt\"):\n",
      "“cannot open file '/kaggle/input/aaa/flux.csv': No such file or directory”\n"
     ]
    },
    {
     "ename": "ERROR",
     "evalue": "Error in file(file, \"rt\"): cannot open the connection\n",
     "output_type": "error",
     "traceback": [
      "Error in file(file, \"rt\"): cannot open the connection\nTraceback:\n",
      "1. read.csv(\"/kaggle/input/aaa/flux.csv\")",
      "2. read.table(file = file, header = header, sep = sep, quote = quote, \n .     dec = dec, fill = fill, comment.char = comment.char, ...)",
      "3. file(file, \"rt\")"
     ]
    }
   ],
   "source": [
    "\n",
    "# 导入数据\n",
    "flux_data <- read.csv(\"/kaggle/input/aaa/flux.csv\")\n",
    "\n",
    "# 合并日期\n",
    "flux_data$日期 <- as.Date(paste(flux_data$year, flux_data$month, flux_data$day), format = \"%Y %m %d\")\n",
    "\n",
    "# 筛选数据\n",
    "selected_site_data <- subset(flux_data, site == 'IT-Lav')\n",
    "\n",
    "# 输出数据\n",
    "write.table(selected_site_data, file = paste0(\"学号\", \"姓名\", \".txt\"), row.names = FALSE)\n",
    "\n",
    "# 查看前20行\n",
    "head(selected_site_data, 20)\n"
   ]
  },
  {
   "cell_type": "code",
   "execution_count": null,
   "id": "091a7aba",
   "metadata": {
    "execution": {
     "iopub.execute_input": "2024-05-17T02:24:15.912097Z",
     "iopub.status.busy": "2024-05-17T02:24:15.910538Z",
     "iopub.status.idle": "2024-05-17T02:24:15.951558Z"
    },
    "papermill": {
     "duration": null,
     "end_time": null,
     "exception": null,
     "start_time": null,
     "status": "pending"
    },
    "tags": [],
    "vscode": {
     "languageId": "r"
    }
   },
   "outputs": [],
   "source": [
    "# 处理缺失值，将-9999或者空格替换为NA\n",
    "selected_site_data[selected_site_data == -9999] <- NA\n",
    "selected_site_data[selected_site_data == \"\"] <- NA\n",
    "\n",
    "# 求平均\n",
    "site_monthly_avg <- aggregate(selected_site_data[, c(\"nee\", \"reco\", \"gpp\")], \n",
    "                              by = list(site = selected_site_data$site, \n",
    "                                        month = format(selected_site_data$日期, \"%Y-%m\")), \n",
    "                              FUN = mean)\n",
    "\n",
    "# 描述统计\n",
    "summary_stats <- lapply(site_monthly_avg[, -c(1, 2)], summary)\n",
    "View(summary_stats)\n"
   ]
  },
  {
   "cell_type": "code",
   "execution_count": null,
   "id": "7ced4387",
   "metadata": {
    "execution": {
     "iopub.execute_input": "2024-05-17T02:24:15.957561Z",
     "iopub.status.busy": "2024-05-17T02:24:15.955940Z",
     "iopub.status.idle": "2024-05-17T02:24:16.378997Z"
    },
    "papermill": {
     "duration": null,
     "end_time": null,
     "exception": null,
     "start_time": null,
     "status": "pending"
    },
    "tags": [],
    "vscode": {
     "languageId": "r"
    }
   },
   "outputs": [],
   "source": [
    "# 加载ggplot2包\n",
    "if (!require(ggplot2)) install.packages(\"ggplot2\")\n",
    "library(ggplot2)\n",
    "\n",
    "# 绘制季节变化图（nee），reco,gpp直接c+v\n",
    "ggplot(data = selected_site_data, aes(x = 日期, y = nee, color = site)) +\n",
    "  geom_line() +\n",
    "  facet_wrap(~ site) +\n",
    "  labs(x = \"日期\", y = \"NEE (µmolCO2 /m2/s)\", title = \"NEE季节变化图\")\n",
    "\n"
   ]
  },
  {
   "cell_type": "code",
   "execution_count": null,
   "id": "0b8751a3",
   "metadata": {
    "papermill": {
     "duration": null,
     "end_time": null,
     "exception": null,
     "start_time": null,
     "status": "pending"
    },
    "tags": [],
    "vscode": {
     "languageId": "r"
    }
   },
   "outputs": [],
   "source": [
    "if (!require(car)) install.packages(\"car\")\n",
    "library(car)\n",
    "\n",
    "if (!require(MASS)) install.packages(\"MASS\")\n",
    "library(MASS)"
   ]
  },
  {
   "cell_type": "code",
   "execution_count": null,
   "id": "15b14945",
   "metadata": {
    "papermill": {
     "duration": null,
     "end_time": null,
     "exception": null,
     "start_time": null,
     "status": "pending"
    },
    "tags": [],
    "vscode": {
     "languageId": "r"
    }
   },
   "outputs": [],
   "source": [
    "independent_vars <- c(\"Ta\", \"VPD\", \"Pa\", \"ws\", \"rain\", \"co2\", \"swc\", \"et\")\n",
    "dependent_vars <- c(\"nee\", \"reco\", \"gpp\")\n",
    "\n",
    "# VIF检验\n",
    "for (dep_var in dependent_vars) {\n",
    "  model_vif <- vif(lm(paste(dep_var, \"~ .\", collapse = \"+\", sep = \"\"), data = selected_site_data[independent_vars]))\n",
    "  print(paste(\"VIF for\", dep_var, \":\"))\n",
    "  print(model_vif)\n",
    "}"
   ]
  },
  {
   "cell_type": "code",
   "execution_count": null,
   "id": "e301aa73",
   "metadata": {
    "papermill": {
     "duration": null,
     "end_time": null,
     "exception": null,
     "start_time": null,
     "status": "pending"
    },
    "tags": [],
    "vscode": {
     "languageId": "r"
    }
   },
   "outputs": [],
   "source": [
    "# nee进行逐步回归分析(reco,gpp)\n",
    "full_model <- lm(NEE ~ ., data = selected_site_data[independent_vars + \"nee\"])\n",
    "step_model <- stepAIC(full_model, direction = \"both\", trace = FALSE)\n",
    "\n",
    "summary(step_model)"
   ]
  },
  {
   "cell_type": "code",
   "execution_count": null,
   "id": "2ce5c4e9",
   "metadata": {
    "execution": {
     "iopub.execute_input": "2024-05-17T02:24:16.408796Z",
     "iopub.status.busy": "2024-05-17T02:24:16.383864Z",
     "iopub.status.idle": "2024-05-17T02:24:16.426138Z"
    },
    "papermill": {
     "duration": null,
     "end_time": null,
     "exception": null,
     "start_time": null,
     "status": "pending"
    },
    "tags": [],
    "vscode": {
     "languageId": "r"
    }
   },
   "outputs": [],
   "source": [
    "if (!require(agricolae)) install.packages(\"agricolae\")\n",
    "library(agricolae)"
   ]
  },
  {
   "cell_type": "code",
   "execution_count": null,
   "id": "15fcca7e",
   "metadata": {
    "execution": {
     "iopub.execute_input": "2024-05-17T02:24:16.452722Z",
     "iopub.status.busy": "2024-05-17T02:24:16.450992Z",
     "iopub.status.idle": "2024-05-17T02:24:16.468466Z"
    },
    "papermill": {
     "duration": null,
     "end_time": null,
     "exception": null,
     "start_time": null,
     "status": "pending"
    },
    "tags": [],
    "vscode": {
     "languageId": "r"
    }
   },
   "outputs": [],
   "source": [
    "independent_vars <- c(\"Ta\", \"VPD\", \"Pa\", \"ws\", \"rain\", \"co2\", \"swc\", \"et\")"
   ]
  },
  {
   "cell_type": "code",
   "execution_count": null,
   "id": "026705d0",
   "metadata": {
    "execution": {
     "iopub.execute_input": "2024-05-17T02:24:16.474747Z",
     "iopub.status.busy": "2024-05-17T02:24:16.473043Z",
     "iopub.status.idle": "2024-05-17T02:24:16.488253Z"
    },
    "papermill": {
     "duration": null,
     "end_time": null,
     "exception": null,
     "start_time": null,
     "status": "pending"
    },
    "tags": [],
    "vscode": {
     "languageId": "r"
    }
   },
   "outputs": [],
   "source": [
    "# my_version <- R.Version()   \n",
    "# my_version"
   ]
  },
  {
   "cell_type": "code",
   "execution_count": null,
   "id": "ac46e3c9",
   "metadata": {
    "execution": {
     "iopub.execute_input": "2024-05-17T02:24:16.494306Z",
     "iopub.status.busy": "2024-05-17T02:24:16.492506Z",
     "iopub.status.idle": "2024-05-17T02:24:16.531064Z"
    },
    "papermill": {
     "duration": null,
     "end_time": null,
     "exception": null,
     "start_time": null,
     "status": "pending"
    },
    "tags": [],
    "vscode": {
     "languageId": "r"
    }
   },
   "outputs": [],
   "source": [
    "# nee,gpp,reco\n",
    "path_analysis_data <- selected_site_data[, c(\"nee\", independent_vars)]\n",
    "# 通径分析\n",
    "path.model <- pathtest(path_analysis_data)\n",
    "summary(path.model)"
   ]
  }
 ],
 "metadata": {
  "kaggle": {
   "accelerator": "none",
   "dataSources": [
    {
     "datasetId": 5011039,
     "sourceId": 8418005,
     "sourceType": "datasetVersion"
    }
   ],
   "isGpuEnabled": false,
   "isInternetEnabled": true,
   "language": "r",
   "sourceType": "notebook"
  },
  "kernelspec": {
   "display_name": "R",
   "language": "R",
   "name": "ir"
  },
  "language_info": {
   "codemirror_mode": "r",
   "file_extension": ".r",
   "mimetype": "text/x-r-source",
   "name": "R",
   "pygments_lexer": "r",
   "version": "4.0.5"
  },
  "papermill": {
   "default_parameters": {},
   "duration": 4.242228,
   "end_time": "2024-05-17T02:32:04.607178",
   "environment_variables": {},
   "exception": true,
   "input_path": "__notebook__.ipynb",
   "output_path": "__notebook__.ipynb",
   "parameters": {},
   "start_time": "2024-05-17T02:32:00.364950",
   "version": "2.5.0"
  }
 },
 "nbformat": 4,
 "nbformat_minor": 5
}
